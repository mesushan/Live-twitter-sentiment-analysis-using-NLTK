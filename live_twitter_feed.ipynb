{
 "cells": [
  {
   "cell_type": "code",
   "execution_count": null,
   "metadata": {},
   "outputs": [],
   "source": [
    "#installing latest version of scikit-learn (just to remove version error)\n",
    "!pip install -U scikit-learn\n"
   ]
  },
  {
   "cell_type": "code",
   "execution_count": null,
   "metadata": {},
   "outputs": [],
   "source": [
    "import nltk\n",
    "nltk.download('punkt')\n",
    "import sentiment_mod as s"
   ]
  },
  {
   "cell_type": "code",
   "execution_count": 3,
   "metadata": {},
   "outputs": [
    {
     "name": "stdout",
     "output_type": "stream",
     "text": [
      "('neg', 1.0)\n",
      "('neg', 1.0)\n",
      "('pos', 1.0)\n",
      "('neg', 1.0)\n",
      "('pos', 1.0)\n",
      "('pos', 1.0)\n"
     ]
    }
   ],
   "source": [
    "#using custom input to test the voted classifier, prints if its positive and negative and the confidence\n",
    "\n",
    "print(s.sentiment(\"Lets unite together to fight against this corona virus situation\"))\n",
    "print(s.sentiment(\"Corona virus\"))\n",
    "print(s.sentiment(\"Studying and working from home is always challenging but we can do it\"))\n",
    "print(s.sentiment(\"Terrible person\"))\n",
    "print(s.sentiment(\"Very good person, love you\"))\n",
    "print(s.sentiment(\"Using NLTK for sentiment analysis is fun\"))"
   ]
  },
  {
   "cell_type": "code",
   "execution_count": null,
   "metadata": {},
   "outputs": [],
   "source": [
    "#insalling tweepy package\n",
    "!pip install tweepy\n",
    "import warnings\n",
    "warnings.filterwarnings('ignore')"
   ]
  },
  {
   "cell_type": "code",
   "execution_count": null,
   "metadata": {},
   "outputs": [],
   "source": [
    "from tweepy import Stream\n",
    "from tweepy import OAuthHandler\n",
    "from tweepy.streaming import StreamListener\n",
    "import json\n",
    "import sentiment_mod as s\n",
    "\n",
    "# input the consumer key, consumer secret, access token, access secret from the twitter apps\n",
    "#ckey=\"asdfsafsafsaf\"\n",
    "#csecret=\"asdfasdfsadfsa\"\n",
    "#atoken=\"asdfsadfsafsaf-asdfsaf\"\n",
    "#asecret=\"asdfsadfsadfsadfsadfsad\"\n",
    "\n",
    "#use your own twitter api keys as above (i have stored in twitterapikeys python file)\n",
    "#https://apps.twitter.com/ -> link for the twitter apps\n",
    " \n",
    "#importing all the twitter api keys from the twitterapikeys file \n",
    "from twitterapikeys import *\n",
    "\n",
    "#creating the listner class\n",
    "class listener(StreamListener):\n",
    "\n",
    "    def on_data(self, data):\n",
    "        \n",
    "        all_data = json.loads(data) #loading string data from twitter API data\n",
    "\n",
    "        tweet = all_data[\"text\"] #identifying tweet as the text section of json data\n",
    "        \n",
    "        sentiment_value, confidence = s.sentiment(tweet) #passing the tweet to our module\n",
    "        print(tweet, sentiment_value, confidence)\n",
    "\n",
    "        #saving the output to twitter-out.txt file if its confidence is over 80%\n",
    "        if confidence*100 >= 80:\n",
    "            output = open(\"twitter-out.txt\",\"a\")\n",
    "            output.write(sentiment_value)\n",
    "            output.write('\\n')\n",
    "            output.close()\n",
    "\n",
    "        return True\n",
    "\n",
    "    def on_error(self, status):\n",
    "        print(status)\n",
    "\n",
    "#Authorizing ourself using auth (usign our keys and tokens from twitter apps)\n",
    "auth = OAuthHandler(ckey, csecret)\n",
    "auth.set_access_token(atoken, asecret)\n",
    "\n",
    "#passing the auth and listner class\n",
    "twitterStream = Stream(auth, listener())\n",
    "\n",
    "#filtering the strem of tweets by our own word, here we use to track word \"happy\" in all live tweets\n",
    "twitterStream.filter(track=[\"happy\"])"
   ]
  },
  {
   "cell_type": "code",
   "execution_count": null,
   "metadata": {},
   "outputs": [],
   "source": []
  }
 ],
 "metadata": {
  "kernelspec": {
   "display_name": "Python 3",
   "language": "python",
   "name": "python3"
  },
  "language_info": {
   "codemirror_mode": {
    "name": "ipython",
    "version": 3
   },
   "file_extension": ".py",
   "mimetype": "text/x-python",
   "name": "python",
   "nbconvert_exporter": "python",
   "pygments_lexer": "ipython3",
   "version": "3.7.3"
  },
  "varInspector": {
   "cols": {
    "lenName": 16,
    "lenType": 16,
    "lenVar": 40
   },
   "kernels_config": {
    "python": {
     "delete_cmd_postfix": "",
     "delete_cmd_prefix": "del ",
     "library": "var_list.py",
     "varRefreshCmd": "print(var_dic_list())"
    },
    "r": {
     "delete_cmd_postfix": ") ",
     "delete_cmd_prefix": "rm(",
     "library": "var_list.r",
     "varRefreshCmd": "cat(var_dic_list()) "
    }
   },
   "types_to_exclude": [
    "module",
    "function",
    "builtin_function_or_method",
    "instance",
    "_Feature"
   ],
   "window_display": false
  }
 },
 "nbformat": 4,
 "nbformat_minor": 4
}
